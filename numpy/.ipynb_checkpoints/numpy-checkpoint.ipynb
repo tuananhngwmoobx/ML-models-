{
 "cells": [
  {
   "cell_type": "code",
   "execution_count": 2,
   "id": "75346577-bbb9-4f74-9937-642b767a1927",
   "metadata": {},
   "outputs": [],
   "source": [
    "import numpy as np"
   ]
  },
  {
   "cell_type": "markdown",
   "id": "eb6a1784-974d-49a4-b124-b8c298482f0f",
   "metadata": {},
   "source": [
    "<h1>Create Numpy Arrays from python lists</h1>"
   ]
  },
  {
   "cell_type": "code",
   "execution_count": 3,
   "id": "48a328fc-7edb-42c7-8fe7-2c677f248f96",
   "metadata": {},
   "outputs": [
    {
     "data": {
      "text/plain": [
       "array([1, 2, 3, 4])"
      ]
     },
     "execution_count": 3,
     "metadata": {},
     "output_type": "execute_result"
    }
   ],
   "source": [
    "np.array([1,2,3,4])"
   ]
  },
  {
   "cell_type": "code",
   "execution_count": 4,
   "id": "8a174c5a-6a84-43e3-bd32-3025229f41bc",
   "metadata": {},
   "outputs": [
    {
     "data": {
      "text/plain": [
       "[3.14, 2, 1]"
      ]
     },
     "execution_count": 4,
     "metadata": {},
     "output_type": "execute_result"
    }
   ],
   "source": [
    "[3.14, 2, 1]"
   ]
  },
  {
   "cell_type": "code",
   "execution_count": 5,
   "id": "d9faa194-d2bc-4a49-a22a-d21859b134eb",
   "metadata": {},
   "outputs": [
    {
     "data": {
      "text/plain": [
       "array([3.14, 4.2 , 3.  ])"
      ]
     },
     "execution_count": 5,
     "metadata": {},
     "output_type": "execute_result"
    }
   ],
   "source": [
    "np.array([3.14, 4.2, 3])"
   ]
  },
  {
   "cell_type": "code",
   "execution_count": 7,
   "id": "f3d52cf0-d752-4a65-86b5-54e88f2961b6",
   "metadata": {},
   "outputs": [
    {
     "data": {
      "text/plain": [
       "array([1., 2., 3., 4.], dtype=float32)"
      ]
     },
     "execution_count": 7,
     "metadata": {},
     "output_type": "execute_result"
    }
   ],
   "source": [
    "#np.array giúp chuyển đổi kiểu dữ liệu\n",
    "np.array([1,2,3,4], dtype = 'float32')"
   ]
  },
  {
   "cell_type": "code",
   "execution_count": 9,
   "id": "e40ecbc1-49d9-4563-ad4f-3e36d1871713",
   "metadata": {},
   "outputs": [
    {
     "data": {
      "text/plain": [
       "numpy.ndarray"
      ]
     },
     "execution_count": 9,
     "metadata": {},
     "output_type": "execute_result"
    }
   ],
   "source": [
    "a1 = np.array([1,2,3,4])\n",
    "type(a1)"
   ]
  },
  {
   "cell_type": "code",
   "execution_count": 4,
   "id": "82c8b790-4463-4f93-bcee-7a6ffc50727d",
   "metadata": {},
   "outputs": [
    {
     "data": {
      "text/plain": [
       "numpy.ndarray"
      ]
     },
     "execution_count": 4,
     "metadata": {},
     "output_type": "execute_result"
    }
   ],
   "source": [
    "a2 = np.array([[1,2,3],[4,5,6]])\n",
    "type(a2)"
   ]
  },
  {
   "cell_type": "code",
   "execution_count": 5,
   "id": "b72c659a-f9d3-4f83-a64d-a4f8e5dbbb5b",
   "metadata": {},
   "outputs": [
    {
     "data": {
      "text/plain": [
       "(2, 3)"
      ]
     },
     "execution_count": 5,
     "metadata": {},
     "output_type": "execute_result"
    }
   ],
   "source": [
    "#cho biết kích thước của ma trận\n",
    "a2.shape"
   ]
  },
  {
   "cell_type": "code",
   "execution_count": 13,
   "id": "0a408b1a-3136-4426-bbb2-6d7066e286c6",
   "metadata": {},
   "outputs": [
    {
     "data": {
      "text/plain": [
       "2"
      ]
     },
     "execution_count": 13,
     "metadata": {},
     "output_type": "execute_result"
    }
   ],
   "source": [
    "#cho biết số chiều của mảng\n",
    "a2.ndim"
   ]
  },
  {
   "cell_type": "code",
   "execution_count": 14,
   "id": "7cf8b968-815b-4c15-a97c-1e8485005fbf",
   "metadata": {},
   "outputs": [
    {
     "data": {
      "text/plain": [
       "dtype('int64')"
      ]
     },
     "execution_count": 14,
     "metadata": {},
     "output_type": "execute_result"
    }
   ],
   "source": [
    "a2.dtype #kiẻu dữ liệu của các phần tử trong mảng"
   ]
  },
  {
   "cell_type": "code",
   "execution_count": 15,
   "id": "3295b761-66d5-49da-bea7-250c25d92116",
   "metadata": {},
   "outputs": [
    {
     "data": {
      "text/plain": [
       "6"
      ]
     },
     "execution_count": 15,
     "metadata": {},
     "output_type": "execute_result"
    }
   ],
   "source": [
    "#tổng các thành phần trong mảng np\n",
    "a2.size "
   ]
  },
  {
   "cell_type": "markdown",
   "id": "ee14a1ed-82a5-408a-addb-506060357242",
   "metadata": {},
   "source": [
    "<h1>Create numpy arrays from Scratch:\n",
    "zeros, ones, full, arange, linespace</h1>"
   ]
  },
  {
   "cell_type": "code",
   "execution_count": 17,
   "id": "dad7282e-6dcb-4a6b-8735-0404c9d0ba4e",
   "metadata": {},
   "outputs": [
    {
     "data": {
      "text/plain": [
       "array([[0, 0, 0, 0],\n",
       "       [0, 0, 0, 0]])"
      ]
     },
     "execution_count": 17,
     "metadata": {},
     "output_type": "execute_result"
    }
   ],
   "source": [
    "#tạo một mảng gồm toàn 0, nhấn shift + tab để biết thêm hàm zeros cần thêm gì\n",
    "np.zeros([2,4], dtype = int)   #.dtype: float64\n"
   ]
  },
  {
   "cell_type": "code",
   "execution_count": 18,
   "id": "bcfb7137-95cc-4d97-bc19-9108dcdf15ed",
   "metadata": {},
   "outputs": [
    {
     "data": {
      "text/plain": [
       "array([[1., 1., 1., 1., 1.],\n",
       "       [1., 1., 1., 1., 1.],\n",
       "       [1., 1., 1., 1., 1.]])"
      ]
     },
     "execution_count": 18,
     "metadata": {},
     "output_type": "execute_result"
    }
   ],
   "source": [
    "#hàm toàn số 1\n",
    "np.ones([3,5], dtype = float)"
   ]
  },
  {
   "cell_type": "code",
   "execution_count": 19,
   "id": "12ce5244-ddc2-4622-8582-59baf89befef",
   "metadata": {},
   "outputs": [
    {
     "data": {
      "text/plain": [
       "array([ 0,  2,  4,  6,  8, 10, 12, 14, 16, 18])"
      ]
     },
     "execution_count": 19,
     "metadata": {},
     "output_type": "execute_result"
    }
   ],
   "source": [
    "#Create an array filled with a linear sequence \n",
    "#Starting at 0, ending at 20, stepping by 2\n",
    "#this is similar to the built-in range() func\n",
    "np.arange(0, 20, 2)"
   ]
  },
  {
   "cell_type": "code",
   "execution_count": 20,
   "id": "7b7d4b08-ffbf-4f54-a686-eba9c63c4fb1",
   "metadata": {},
   "outputs": [
    {
     "data": {
      "text/plain": [
       "array([[6.9, 6.9, 6.9, 6.9, 6.9],\n",
       "       [6.9, 6.9, 6.9, 6.9, 6.9],\n",
       "       [6.9, 6.9, 6.9, 6.9, 6.9]])"
      ]
     },
     "execution_count": 20,
     "metadata": {},
     "output_type": "execute_result"
    }
   ],
   "source": [
    "#hàm full: tạo np.array theo ý mình muốn\n",
    "np.full([3,5], 6.9)"
   ]
  },
  {
   "cell_type": "code",
   "execution_count": 22,
   "id": "52acf057-8e1d-4d13-979f-6ea8a2261132",
   "metadata": {},
   "outputs": [
    {
     "data": {
      "text/plain": [
       "array([0.  , 0.25, 0.5 , 0.75, 1.  ])"
      ]
     },
     "execution_count": 22,
     "metadata": {},
     "output_type": "execute_result"
    }
   ],
   "source": [
    "#Create an array of five values evenly spaced between 0 and 1\n",
    "np.linspace(0, 1, 5)"
   ]
  },
  {
   "cell_type": "markdown",
   "id": "eca6e2d4-2ab7-45c9-8c48-ee485e049955",
   "metadata": {},
   "source": [
    "<h1>Hàm Random trong np</h1>"
   ]
  },
  {
   "cell_type": "code",
   "execution_count": 24,
   "id": "09ab99c5-c861-4625-becf-25060a473535",
   "metadata": {},
   "outputs": [
    {
     "data": {
      "text/plain": [
       "array([[0.49402082, 0.20330622, 0.52747904, 0.53947826],\n",
       "       [0.73902078, 0.79709749, 0.83462526, 0.23134095],\n",
       "       [0.76027327, 0.08858906, 0.6779517 , 0.76386491],\n",
       "       [0.56690473, 0.70484074, 0.07422632, 0.61546095]])"
      ]
     },
     "execution_count": 24,
     "metadata": {},
     "output_type": "execute_result"
    }
   ],
   "source": [
    "np.random.random([4,4])"
   ]
  },
  {
   "cell_type": "code",
   "execution_count": 29,
   "id": "3fc7702a-cabf-4546-b673-a72c24e1f827",
   "metadata": {},
   "outputs": [
    {
     "data": {
      "text/plain": [
       "array([[0.45615033, 0.56843395, 0.0187898 , 0.6176355 ],\n",
       "       [0.61209572, 0.616934  , 0.94374808, 0.6818203 ],\n",
       "       [0.3595079 , 0.43703195, 0.6976312 , 0.06022547],\n",
       "       [0.66676672, 0.67063787, 0.21038256, 0.1289263 ]])"
      ]
     },
     "execution_count": 29,
     "metadata": {},
     "output_type": "execute_result"
    }
   ],
   "source": [
    "np.random.random([4,4])\n"
   ]
  },
  {
   "cell_type": "code",
   "execution_count": 31,
   "id": "67b596ec-9312-436d-b865-e11d985680d8",
   "metadata": {},
   "outputs": [
    {
     "data": {
      "text/plain": [
       "array([[0.5488135 , 0.71518937, 0.60276338, 0.54488318],\n",
       "       [0.4236548 , 0.64589411, 0.43758721, 0.891773  ],\n",
       "       [0.96366276, 0.38344152, 0.79172504, 0.52889492],\n",
       "       [0.56804456, 0.92559664, 0.07103606, 0.0871293 ]])"
      ]
     },
     "execution_count": 31,
     "metadata": {},
     "output_type": "execute_result"
    }
   ],
   "source": [
    "#Seed for reproducibility: tính lặp lại trong hàm random\n",
    "np.random.seed(0)\n",
    "np.random.random([4,4])   #chạy bao nhiêu lần vẫn ra cùng 1 kết quả"
   ]
  },
  {
   "cell_type": "code",
   "execution_count": 32,
   "id": "9e491140-9336-4442-ae24-3716717b01f0",
   "metadata": {},
   "outputs": [
    {
     "data": {
      "text/plain": [
       "array([[ 0.44386323,  0.33367433,  1.49407907],\n",
       "       [-0.20515826,  0.3130677 , -0.85409574],\n",
       "       [-2.55298982,  0.6536186 ,  0.8644362 ]])"
      ]
     },
     "execution_count": 32,
     "metadata": {},
     "output_type": "execute_result"
    }
   ],
   "source": [
    "np.random.normal(0,1,[3,3])    #tạo mẫu ngẫu nhiên từ phân phối gauss\n",
    "#Giá trị đầu tiên là giá trị TB(mean), giá trị thứ 2 là Standard deviation (độ lệch chuẩn)"
   ]
  },
  {
   "cell_type": "code",
   "execution_count": 33,
   "id": "85cd8525-c9c4-4c50-ba84-987faeef7ca5",
   "metadata": {},
   "outputs": [
    {
     "data": {
      "text/plain": [
       "array([[7, 2, 0, 0, 4],\n",
       "       [5, 5, 6, 8, 4],\n",
       "       [1, 4, 9, 8, 1],\n",
       "       [1, 7, 9, 9, 3]], dtype=int32)"
      ]
     },
     "execution_count": 33,
     "metadata": {},
     "output_type": "execute_result"
    }
   ],
   "source": [
    "#random interger: randint(low, high=None, size=None, dtype=int)\n",
    "np.random.randint(0, 10, [4,5]) #low >= 0, high < 10"
   ]
  },
  {
   "cell_type": "code",
   "execution_count": 34,
   "id": "eafb8bed-4e76-4391-97c6-aaeb4cfbc65d",
   "metadata": {},
   "outputs": [
    {
     "data": {
      "text/plain": [
       "array([[0.65314004, 0.17090959, 0.35815217, 0.75068614],\n",
       "       [0.60783067, 0.32504723, 0.03842543, 0.63427406],\n",
       "       [0.95894927, 0.65279032, 0.63505887, 0.99529957],\n",
       "       [0.58185033, 0.41436859, 0.4746975 , 0.6235101 ]])"
      ]
     },
     "execution_count": 34,
     "metadata": {},
     "output_type": "execute_result"
    }
   ],
   "source": [
    "np.random.rand(4,4)"
   ]
  },
  {
   "cell_type": "markdown",
   "id": "3c0ba2d2-6016-4bb3-9f6a-adcfc702530e",
   "metadata": {},
   "source": [
    "<h1>Array indexing and Slicing </h1>"
   ]
  },
  {
   "cell_type": "markdown",
   "id": "cac9d61e-d766-4e71-9d55-3a16f8f44527",
   "metadata": {},
   "source": [
    "<h2>One-dimensional subarray</h2>"
   ]
  },
  {
   "cell_type": "code",
   "execution_count": 35,
   "id": "e230db29-a372-4739-a57d-a5febdd2cf34",
   "metadata": {},
   "outputs": [],
   "source": [
    "x1 = np.random.randint(20, size = 6)"
   ]
  },
  {
   "cell_type": "code",
   "execution_count": 36,
   "id": "5d5e8745-b8fe-44c2-9d69-8cf6005afe04",
   "metadata": {},
   "outputs": [
    {
     "data": {
      "text/plain": [
       "array([15, 13, 16, 17,  5,  9], dtype=int32)"
      ]
     },
     "execution_count": 36,
     "metadata": {},
     "output_type": "execute_result"
    }
   ],
   "source": [
    "x1"
   ]
  },
  {
   "cell_type": "code",
   "execution_count": 37,
   "id": "72863e04-82f1-4de5-b069-e63f7943be30",
   "metadata": {},
   "outputs": [
    {
     "data": {
      "text/plain": [
       "np.int32(5)"
      ]
     },
     "execution_count": 37,
     "metadata": {},
     "output_type": "execute_result"
    }
   ],
   "source": [
    "x1[4]"
   ]
  },
  {
   "cell_type": "markdown",
   "id": "7135144f-583a-4afc-beef-cdb6842dca14",
   "metadata": {},
   "source": [
    "<h2>Multi-dimensional array </h2>"
   ]
  },
  {
   "cell_type": "code",
   "execution_count": 38,
   "id": "ecdf0d53-7028-471b-b456-fc0b1ced7675",
   "metadata": {},
   "outputs": [],
   "source": [
    "x2 = np.random.randint(10, size = (3,4))"
   ]
  },
  {
   "cell_type": "code",
   "execution_count": 39,
   "id": "2969ad5d-58fc-4507-aff9-0c8dca3c2bcf",
   "metadata": {},
   "outputs": [
    {
     "data": {
      "text/plain": [
       "array([[3, 0, 5, 0],\n",
       "       [1, 2, 4, 2],\n",
       "       [0, 3, 2, 0]], dtype=int32)"
      ]
     },
     "execution_count": 39,
     "metadata": {},
     "output_type": "execute_result"
    }
   ],
   "source": [
    "x2"
   ]
  },
  {
   "cell_type": "code",
   "execution_count": 40,
   "id": "37b090c9-1b55-4371-8184-62a171ea248d",
   "metadata": {},
   "outputs": [
    {
     "data": {
      "text/plain": [
       "np.int32(4)"
      ]
     },
     "execution_count": 40,
     "metadata": {},
     "output_type": "execute_result"
    }
   ],
   "source": [
    "x2[1,2]"
   ]
  },
  {
   "cell_type": "markdown",
   "id": "841dcfc3-7f31-46b3-9620-ed7f8d037094",
   "metadata": {},
   "source": [
    "<h2>Slicing\n",
    "x [start:stop:step]</h2>"
   ]
  },
  {
   "cell_type": "code",
   "execution_count": 41,
   "id": "1fb1e35d-5342-449f-80fa-f88803f0c135",
   "metadata": {},
   "outputs": [
    {
     "data": {
      "text/plain": [
       "array([15, 13, 16, 17,  5,  9], dtype=int32)"
      ]
     },
     "execution_count": 41,
     "metadata": {},
     "output_type": "execute_result"
    }
   ],
   "source": [
    "x1"
   ]
  },
  {
   "cell_type": "code",
   "execution_count": 44,
   "id": "f99b17fb-80fb-41e0-83be-4beb83e985f6",
   "metadata": {},
   "outputs": [
    {
     "data": {
      "text/plain": [
       "array([15, 13, 16], dtype=int32)"
      ]
     },
     "execution_count": 44,
     "metadata": {},
     "output_type": "execute_result"
    }
   ],
   "source": [
    "#lấy 3 kí tự đầu trong x1\n",
    "x1[0:3:1]"
   ]
  },
  {
   "cell_type": "markdown",
   "id": "27ac1392-e826-4f64-914a-c4d93b668efe",
   "metadata": {},
   "source": [
    "<h4>Every 2 steps</h4>"
   ]
  },
  {
   "cell_type": "code",
   "execution_count": 45,
   "id": "e9f82a67-d9a7-4e98-a64e-147caee48a8f",
   "metadata": {},
   "outputs": [
    {
     "data": {
      "text/plain": [
       "array([15, 16,  5], dtype=int32)"
      ]
     },
     "execution_count": 45,
     "metadata": {},
     "output_type": "execute_result"
    }
   ],
   "source": [
    "x1[::2]"
   ]
  },
  {
   "cell_type": "code",
   "execution_count": 46,
   "id": "a7f13880-95eb-4c86-942f-a74e4b4a695c",
   "metadata": {},
   "outputs": [
    {
     "data": {
      "text/plain": [
       "array([[3, 0, 5, 0],\n",
       "       [1, 2, 4, 2],\n",
       "       [0, 3, 2, 0]], dtype=int32)"
      ]
     },
     "execution_count": 46,
     "metadata": {},
     "output_type": "execute_result"
    }
   ],
   "source": [
    "x2"
   ]
  },
  {
   "cell_type": "code",
   "execution_count": 47,
   "id": "d83f79e8-d402-4409-969d-3cd5ff31b6d6",
   "metadata": {},
   "outputs": [
    {
     "data": {
      "text/plain": [
       "array([[3, 0, 5],\n",
       "       [1, 2, 4]], dtype=int32)"
      ]
     },
     "execution_count": 47,
     "metadata": {},
     "output_type": "execute_result"
    }
   ],
   "source": [
    "#2 rows, 3 cols\n",
    "x2[:2, :3]"
   ]
  },
  {
   "cell_type": "code",
   "execution_count": 48,
   "id": "f48de4f3-9d38-4a89-bcec-dd6fa3838bb0",
   "metadata": {},
   "outputs": [
    {
     "data": {
      "text/plain": [
       "array([[3, 0],\n",
       "       [1, 2],\n",
       "       [0, 3]], dtype=int32)"
      ]
     },
     "execution_count": 48,
     "metadata": {},
     "output_type": "execute_result"
    }
   ],
   "source": [
    "x2[:, :2] #tất cả các dòng với 2 cột đầu"
   ]
  },
  {
   "cell_type": "markdown",
   "id": "84b5ec64-d633-4e6e-b024-c75b56263a42",
   "metadata": {},
   "source": [
    "<h1>Reshaping arrays & Transpose</h1>"
   ]
  },
  {
   "cell_type": "code",
   "execution_count": 51,
   "id": "8286173e-340c-415a-90d9-25cbd2771f3d",
   "metadata": {},
   "outputs": [
    {
     "data": {
      "text/plain": [
       "(9,)"
      ]
     },
     "execution_count": 51,
     "metadata": {},
     "output_type": "execute_result"
    }
   ],
   "source": [
    "grid =  np.arange(1, 10)\n",
    "grid.shape"
   ]
  },
  {
   "cell_type": "code",
   "execution_count": 52,
   "id": "0524762a-ad87-4515-bf22-e29f7f465764",
   "metadata": {},
   "outputs": [
    {
     "data": {
      "text/plain": [
       "array([[1, 2, 3],\n",
       "       [4, 5, 6],\n",
       "       [7, 8, 9]])"
      ]
     },
     "execution_count": 52,
     "metadata": {},
     "output_type": "execute_result"
    }
   ],
   "source": [
    "grid.reshape([3,3])"
   ]
  },
  {
   "cell_type": "code",
   "execution_count": 53,
   "id": "7f1e3aa9-3d7a-4303-a0b4-ea6c6dfbcad7",
   "metadata": {},
   "outputs": [],
   "source": [
    "x = np.array([1,2,3])"
   ]
  },
  {
   "cell_type": "code",
   "execution_count": 54,
   "id": "683d31b6-6e89-4dfa-b8da-de347b738ad1",
   "metadata": {},
   "outputs": [
    {
     "data": {
      "text/plain": [
       "(3,)"
      ]
     },
     "execution_count": 54,
     "metadata": {},
     "output_type": "execute_result"
    }
   ],
   "source": [
    "x.shape"
   ]
  },
  {
   "cell_type": "code",
   "execution_count": 55,
   "id": "9ae18dbb-f180-41d9-94eb-add337db26ee",
   "metadata": {},
   "outputs": [
    {
     "data": {
      "text/plain": [
       "array([[1, 2, 3]])"
      ]
     },
     "execution_count": 55,
     "metadata": {},
     "output_type": "execute_result"
    }
   ],
   "source": [
    "x.reshape([1,3])"
   ]
  },
  {
   "cell_type": "code",
   "execution_count": 57,
   "id": "6f812f6f-e952-4dc3-b691-a502273573c5",
   "metadata": {},
   "outputs": [
    {
     "data": {
      "text/plain": [
       "(1, 3)"
      ]
     },
     "execution_count": 57,
     "metadata": {},
     "output_type": "execute_result"
    }
   ],
   "source": [
    "x.reshape([1,3]).shape\n"
   ]
  },
  {
   "cell_type": "markdown",
   "id": "b940d363-e755-4398-bfec-3e254bf78b35",
   "metadata": {},
   "source": [
    "<h3>Transpose: convert từ cột thành hàng và hàng thành cột</h3>"
   ]
  },
  {
   "cell_type": "code",
   "execution_count": 59,
   "id": "659f3bb8-474f-46a8-8566-fc67b5d502f9",
   "metadata": {},
   "outputs": [],
   "source": [
    "x = np.array([[1., 2.], [3., 4.]])"
   ]
  },
  {
   "cell_type": "code",
   "execution_count": 60,
   "id": "2ef25c12-9dc3-4ea1-b227-955f1f91e992",
   "metadata": {},
   "outputs": [
    {
     "data": {
      "text/plain": [
       "array([[1., 2.],\n",
       "       [3., 4.]])"
      ]
     },
     "execution_count": 60,
     "metadata": {},
     "output_type": "execute_result"
    }
   ],
   "source": [
    "x"
   ]
  },
  {
   "cell_type": "code",
   "execution_count": 61,
   "id": "b4e26219-fa79-4cf9-86e7-8e6669365411",
   "metadata": {},
   "outputs": [
    {
     "data": {
      "text/plain": [
       "array([[1., 3.],\n",
       "       [2., 4.]])"
      ]
     },
     "execution_count": 61,
     "metadata": {},
     "output_type": "execute_result"
    }
   ],
   "source": [
    "#Ma trân chuyển vị\n",
    "x.T"
   ]
  },
  {
   "cell_type": "markdown",
   "id": "b796368c-307c-45a6-8a0e-530fae567581",
   "metadata": {},
   "source": [
    "<h1>Array concatenation and Splitting "
   ]
  },
  {
   "cell_type": "code",
   "execution_count": 8,
   "id": "3b8fc7d9-4cbc-4e7c-92b0-903e2f074c9d",
   "metadata": {},
   "outputs": [],
   "source": [
    "x = np.array([1,2,3])\n",
    "y = np.array([3,2,1])"
   ]
  },
  {
   "cell_type": "code",
   "execution_count": 10,
   "id": "638057ef-c8da-4685-8dc9-37076d0d7588",
   "metadata": {},
   "outputs": [
    {
     "data": {
      "text/plain": [
       "array([1, 2, 3, 3, 2, 1])"
      ]
     },
     "execution_count": 10,
     "metadata": {},
     "output_type": "execute_result"
    }
   ],
   "source": [
    "np.concatenate((x, y), )"
   ]
  },
  {
   "cell_type": "code",
   "execution_count": 11,
   "id": "baf7178a-c2ea-4618-84f5-0d8c7e4142ff",
   "metadata": {},
   "outputs": [
    {
     "data": {
      "text/plain": [
       "array([[1, 2, 3],\n",
       "       [4, 5, 6]])"
      ]
     },
     "execution_count": 11,
     "metadata": {},
     "output_type": "execute_result"
    }
   ],
   "source": [
    "grid = np.array([[1,2,3], [4,5,6]])\n",
    "grid "
   ]
  },
  {
   "cell_type": "code",
   "execution_count": 12,
   "id": "f1e99bb8-651f-4b88-8917-a0e96ac2b9f9",
   "metadata": {},
   "outputs": [
    {
     "data": {
      "text/plain": [
       "array([[1, 2, 3],\n",
       "       [4, 5, 6],\n",
       "       [1, 2, 3],\n",
       "       [4, 5, 6]])"
      ]
     },
     "execution_count": 12,
     "metadata": {},
     "output_type": "execute_result"
    }
   ],
   "source": [
    "np.concatenate((grid, grid))  #axis = 0: default nối theo chiều ngang"
   ]
  },
  {
   "cell_type": "code",
   "execution_count": 13,
   "id": "ae632584-c0a5-4a7f-828c-489407cd8bc8",
   "metadata": {},
   "outputs": [
    {
     "data": {
      "text/plain": [
       "array([[1, 2, 3, 1, 2, 3],\n",
       "       [4, 5, 6, 4, 5, 6]])"
      ]
     },
     "execution_count": 13,
     "metadata": {},
     "output_type": "execute_result"
    }
   ],
   "source": [
    "np.concatenate((grid, grid), axis = 1)\n"
   ]
  },
  {
   "cell_type": "code",
   "execution_count": 14,
   "id": "3525c7c5-20fd-4ee5-80e4-6ff84df77420",
   "metadata": {},
   "outputs": [],
   "source": [
    "#vstack: concat theo chiều dọc\n",
    "x = np.array([1,2,3])\n",
    "grid = np.array([[9,8,7], \n",
    "                 [6,5,4]])"
   ]
  },
  {
   "cell_type": "code",
   "execution_count": 15,
   "id": "b70512b9-bcf0-4737-9f7f-b54a1e3d92bd",
   "metadata": {},
   "outputs": [
    {
     "data": {
      "text/plain": [
       "array([[1, 2, 3],\n",
       "       [9, 8, 7],\n",
       "       [6, 5, 4]])"
      ]
     },
     "execution_count": 15,
     "metadata": {},
     "output_type": "execute_result"
    }
   ],
   "source": [
    "np.vstack((x, grid))"
   ]
  },
  {
   "cell_type": "code",
   "execution_count": 16,
   "id": "7d770e19-2c7e-43f6-8ead-4e5200c495e4",
   "metadata": {},
   "outputs": [
    {
     "data": {
      "text/plain": [
       "array([[99,  9,  8,  7],\n",
       "       [99,  6,  5,  4]])"
      ]
     },
     "execution_count": 16,
     "metadata": {},
     "output_type": "execute_result"
    }
   ],
   "source": [
    "#horizontally stack the arrays: hstack\n",
    "y = np.array([[99],\n",
    "              [99]])\n",
    "np.hstack((y, grid))"
   ]
  },
  {
   "cell_type": "markdown",
   "id": "7459d93c-c5a7-445f-a587-ebe9eb9929ee",
   "metadata": {},
   "source": [
    "<h3>Splitting of arrays</h3>"
   ]
  },
  {
   "cell_type": "code",
   "execution_count": 5,
   "id": "cf7e856e-e1e9-4a9b-931f-abf2349e4d3b",
   "metadata": {},
   "outputs": [],
   "source": [
    "x = np.array([1,2,3,99,69,3,2,1])"
   ]
  },
  {
   "cell_type": "code",
   "execution_count": 19,
   "id": "dcca2523-b81a-4dca-adbb-1148a54efbb0",
   "metadata": {},
   "outputs": [
    {
     "data": {
      "text/plain": [
       "[array([1, 2]), array([ 3, 99]), array([69,  3]), array([2, 1])]"
      ]
     },
     "execution_count": 19,
     "metadata": {},
     "output_type": "execute_result"
    }
   ],
   "source": [
    "np.split(x, 4)"
   ]
  },
  {
   "cell_type": "code",
   "execution_count": 20,
   "id": "9ede1bd7-0593-4054-b673-5d03c738b5b0",
   "metadata": {},
   "outputs": [
    {
     "data": {
      "text/plain": [
       "[array([1, 2, 3]), array([99, 69]), array([3, 2, 1])]"
      ]
     },
     "execution_count": 20,
     "metadata": {},
     "output_type": "execute_result"
    }
   ],
   "source": [
    "np.split(x, [3,5])"
   ]
  },
  {
   "cell_type": "code",
   "execution_count": 6,
   "id": "05f184bc-3470-458e-bc04-26f1271f2388",
   "metadata": {},
   "outputs": [],
   "source": [
    "x1, x2, x3 = np.split(x, [3,5])"
   ]
  },
  {
   "cell_type": "code",
   "execution_count": 22,
   "id": "785ae890-87e5-4dd6-95f0-a72b4e4f0795",
   "metadata": {},
   "outputs": [
    {
     "data": {
      "text/plain": [
       "array([1, 2, 3])"
      ]
     },
     "execution_count": 22,
     "metadata": {},
     "output_type": "execute_result"
    }
   ],
   "source": [
    "x1"
   ]
  },
  {
   "cell_type": "code",
   "execution_count": 8,
   "id": "226fc1c8-220a-4bb5-9d5b-7f97cdd09448",
   "metadata": {},
   "outputs": [
    {
     "data": {
      "text/plain": [
       "array([99, 69])"
      ]
     },
     "execution_count": 8,
     "metadata": {},
     "output_type": "execute_result"
    }
   ],
   "source": [
    "x2"
   ]
  },
  {
   "cell_type": "code",
   "execution_count": 9,
   "id": "002cc334-c58a-4b34-ae5d-93084fef452a",
   "metadata": {},
   "outputs": [
    {
     "data": {
      "text/plain": [
       "array([3, 2, 1])"
      ]
     },
     "execution_count": 9,
     "metadata": {},
     "output_type": "execute_result"
    }
   ],
   "source": [
    "x3"
   ]
  },
  {
   "cell_type": "markdown",
   "id": "a639d020-4c1c-435b-b8c9-e1f1b6c1753f",
   "metadata": {},
   "source": [
    "<h1>Broadcasting and Vectorized ops <br>Một tập các quy tắc để áp dụng các hàm nhị phân(eg: addition, subtraction, multiplication, etc) trên những mảng kích thước khác nhau \n",
    "</h1>"
   ]
  },
  {
   "cell_type": "code",
   "execution_count": 11,
   "id": "2b0109a9-bdc5-4ad9-b9c2-ece91842df23",
   "metadata": {},
   "outputs": [
    {
     "data": {
      "text/plain": [
       "array([0, 1, 2])"
      ]
     },
     "execution_count": 11,
     "metadata": {},
     "output_type": "execute_result"
    }
   ],
   "source": [
    "a = np.arange(3)\n",
    "a"
   ]
  },
  {
   "cell_type": "code",
   "execution_count": 13,
   "id": "5ff6c778-96ac-4064-9cd5-2cd084600455",
   "metadata": {},
   "outputs": [
    {
     "data": {
      "text/plain": [
       "array([5, 6, 7])"
      ]
     },
     "execution_count": 13,
     "metadata": {},
     "output_type": "execute_result"
    }
   ],
   "source": [
    "a + 5 #broadcasting "
   ]
  },
  {
   "cell_type": "code",
   "execution_count": 16,
   "id": "0f11caff-6905-451c-a5eb-cfbec51d6010",
   "metadata": {},
   "outputs": [
    {
     "data": {
      "text/plain": [
       "array([[1., 1., 1.],\n",
       "       [1., 1., 1.],\n",
       "       [1., 1., 1.]])"
      ]
     },
     "execution_count": 16,
     "metadata": {},
     "output_type": "execute_result"
    }
   ],
   "source": [
    "b = np.ones([3,3])\n",
    "b"
   ]
  },
  {
   "cell_type": "code",
   "execution_count": 18,
   "id": "6b8db65f-9493-4fa0-a43f-027c73cf823e",
   "metadata": {},
   "outputs": [
    {
     "data": {
      "text/plain": [
       "((3,), (3, 3))"
      ]
     },
     "execution_count": 18,
     "metadata": {},
     "output_type": "execute_result"
    }
   ],
   "source": [
    "a.shape, b.shape"
   ]
  },
  {
   "cell_type": "code",
   "execution_count": 20,
   "id": "d7a1924f-9998-4f41-9c53-ff2409e53b2e",
   "metadata": {},
   "outputs": [
    {
     "data": {
      "text/plain": [
       "array([[1., 2., 3.],\n",
       "       [1., 2., 3.],\n",
       "       [1., 2., 3.]])"
      ]
     },
     "execution_count": 20,
     "metadata": {},
     "output_type": "execute_result"
    }
   ],
   "source": [
    "a + b #broadcast array a = size array b"
   ]
  },
  {
   "cell_type": "code",
   "execution_count": 22,
   "id": "43640f5b-2dbf-4ac6-aec9-e414cdab47a4",
   "metadata": {},
   "outputs": [
    {
     "data": {
      "text/plain": [
       "array([[0],\n",
       "       [1],\n",
       "       [2]])"
      ]
     },
     "execution_count": 22,
     "metadata": {},
     "output_type": "execute_result"
    }
   ],
   "source": [
    "c = np.arange(3).reshape([3,1])\n",
    "c"
   ]
  },
  {
   "cell_type": "code",
   "execution_count": 3,
   "id": "cd92769a-97e6-4067-9566-2395725dae07",
   "metadata": {},
   "outputs": [
    {
     "ename": "NameError",
     "evalue": "name 'a' is not defined",
     "output_type": "error",
     "traceback": [
      "\u001b[1;31m---------------------------------------------------------------------------\u001b[0m",
      "\u001b[1;31mNameError\u001b[0m                                 Traceback (most recent call last)",
      "Cell \u001b[1;32mIn[3], line 1\u001b[0m\n\u001b[1;32m----> 1\u001b[0m a \u001b[38;5;241m+\u001b[39m c\n",
      "\u001b[1;31mNameError\u001b[0m: name 'a' is not defined"
     ]
    }
   ],
   "source": [
    "a + c #braodcast cả a và c cho thành 1 mtr 3x3"
   ]
  },
  {
   "cell_type": "code",
   "execution_count": null,
   "id": "4fa0a332-97d7-499c-ab60-0ea4fd84c0d4",
   "metadata": {},
   "outputs": [],
   "source": []
  }
 ],
 "metadata": {
  "kernelspec": {
   "display_name": "Python 3 (ipykernel)",
   "language": "python",
   "name": "python3"
  },
  "language_info": {
   "codemirror_mode": {
    "name": "ipython",
    "version": 3
   },
   "file_extension": ".py",
   "mimetype": "text/x-python",
   "name": "python",
   "nbconvert_exporter": "python",
   "pygments_lexer": "ipython3",
   "version": "3.12.9"
  }
 },
 "nbformat": 4,
 "nbformat_minor": 5
}
