{
 "cells": [
  {
   "cell_type": "markdown",
   "id": "391aee87-bea8-4df8-af1c-12a080dd23c7",
   "metadata": {},
   "source": [
    "<h1>Hàm ẩn danh lambda trong python<br>syntax: lambda arguments: expression <br> lambda là một hàm ngắn, chỉ cần viết trên 1 dòng mà có thể được định nghĩa mà không cần truyền tên hàm\n",
    "</h1>"
   ]
  },
  {
   "cell_type": "code",
   "execution_count": 3,
   "id": "f9f4228f-6e36-4903-8d49-5b8d131435c0",
   "metadata": {},
   "outputs": [],
   "source": [
    "#a lambda func that adds 69 to the input argument \n",
    "codexplore = lambda so : so + 69 "
   ]
  },
  {
   "cell_type": "code",
   "execution_count": 4,
   "id": "2879b665-dbd0-47f9-b349-8a7571649629",
   "metadata": {},
   "outputs": [
    {
     "name": "stdout",
     "output_type": "stream",
     "text": [
      "70\n"
     ]
    }
   ],
   "source": [
    "print(codexplore(1))"
   ]
  },
  {
   "cell_type": "code",
   "execution_count": 6,
   "id": "0e60ba11-c099-4d02-b862-e0fec240ea4f",
   "metadata": {},
   "outputs": [],
   "source": [
    "#Tương tự như hàm sau\n",
    "def codexplore1(so):\n",
    "    return so + 69"
   ]
  },
  {
   "cell_type": "code",
   "execution_count": 10,
   "id": "c7fd27e7-44b7-4a15-8ba1-eb813663e270",
   "metadata": {},
   "outputs": [
    {
     "name": "stdout",
     "output_type": "stream",
     "text": [
      "80\n",
      "None\n"
     ]
    }
   ],
   "source": [
    "print(codexplore1(11))"
   ]
  },
  {
   "cell_type": "code",
   "execution_count": 11,
   "id": "3047ac1b-08dd-45b5-a515-122513feadff",
   "metadata": {},
   "outputs": [
    {
     "name": "stdout",
     "output_type": "stream",
     "text": [
      "2\n"
     ]
    }
   ],
   "source": [
    "other = lambda x,y,z : x-y+z\n",
    "print(other(1,2,3))"
   ]
  },
  {
   "cell_type": "code",
   "execution_count": 12,
   "id": "51ae063a-08b2-4a88-92b0-a4ffad39a2f1",
   "metadata": {},
   "outputs": [
    {
     "data": {
      "text/plain": [
       "[(-1, 3), (2, 10), (6, 9), (9, 6)]"
      ]
     },
     "execution_count": 12,
     "metadata": {},
     "output_type": "execute_result"
    }
   ],
   "source": [
    "#Custom sorting using a lambda func as key parameter\n",
    "coordinate2D = [(6,9), (9, 6), (-1, 3), (2, 10)]\n",
    "sorted(coordinate2D) #sort theo first element "
   ]
  },
  {
   "cell_type": "code",
   "execution_count": 13,
   "id": "0ecacdf5-0f00-44a8-b7cb-efb3d72520bc",
   "metadata": {},
   "outputs": [
    {
     "data": {
      "text/plain": [
       "[(-1, 3), (9, 6), (6, 9), (2, 10)]"
      ]
     },
     "execution_count": 13,
     "metadata": {},
     "output_type": "execute_result"
    }
   ],
   "source": [
    "#sort theo second element \n",
    "sorted(coordinate2D, key = lambda point: point[1])"
   ]
  },
  {
   "cell_type": "code",
   "execution_count": 14,
   "id": "d3e0ff6d-ebd3-4536-8b11-cad451f223e7",
   "metadata": {},
   "outputs": [
    {
     "data": {
      "text/plain": [
       "[-9, -3, 1, 2, 4, 7, 11]"
      ]
     },
     "execution_count": 14,
     "metadata": {},
     "output_type": "execute_result"
    }
   ],
   "source": [
    "num_list = [1,2,-3,7,-9,11,4]\n",
    "sorted(num_list)"
   ]
  },
  {
   "cell_type": "code",
   "execution_count": 15,
   "id": "84736cd4-adf7-4777-8ea7-c2c88ef97766",
   "metadata": {},
   "outputs": [
    {
     "data": {
      "text/plain": [
       "[1, 2, -3, 4, 7, -9, 11]"
      ]
     },
     "execution_count": 15,
     "metadata": {},
     "output_type": "execute_result"
    }
   ],
   "source": [
    "#sort theo abs\n",
    "sorted(num_list, key = lambda x: abs(x))"
   ]
  },
  {
   "cell_type": "code",
   "execution_count": 19,
   "id": "034c7393-f6df-4f6b-95fa-66025645c72c",
   "metadata": {},
   "outputs": [
    {
     "data": {
      "text/plain": [
       "['Codexplore', 'Welcome', 'Holo']"
      ]
     },
     "execution_count": 19,
     "metadata": {},
     "output_type": "execute_result"
    }
   ],
   "source": [
    "#map(func, seq), transforms each ele with the func\n",
    "list_keyword = [\"codexplore\", \"welcome\", \"holo\"]\n",
    "list(map(lambda x: x.title(), list_keyword))"
   ]
  },
  {
   "cell_type": "code",
   "execution_count": 21,
   "id": "2d22418e-b384-48d7-99e8-a41b8ee7beff",
   "metadata": {},
   "outputs": [
    {
     "data": {
      "text/plain": [
       "['Codexplore', 'Welcome', 'Holo']"
      ]
     },
     "execution_count": 21,
     "metadata": {},
     "output_type": "execute_result"
    }
   ],
   "source": [
    "#Khá tương tự với list comprehension\n",
    "new_list = [keyword.title() for keyword in list_keyword]\n",
    "new_list"
   ]
  },
  {
   "cell_type": "markdown",
   "id": "9e57267d-e178-4aad-9756-4658d1f97ba4",
   "metadata": {},
   "source": [
    "<h1>Use lambda for filter func</h1>"
   ]
  },
  {
   "cell_type": "code",
   "execution_count": 23,
   "id": "342c0c2b-8653-401d-b5cb-695dcf596ae5",
   "metadata": {},
   "outputs": [
    {
     "data": {
      "text/plain": [
       "[2, 4, 6, 8, 10]"
      ]
     },
     "execution_count": 23,
     "metadata": {},
     "output_type": "execute_result"
    }
   ],
   "source": [
    "#filter(func, seq), returns all elements for which func evaluates to True \n",
    "list_number = [1,2,3,4,5,6,7,8,9,10]\n",
    "list(filter(lambda x: x%2 == 0, list_number))"
   ]
  },
  {
   "cell_type": "code",
   "execution_count": 26,
   "id": "15f26314-65e6-44cb-8079-861524ed7a70",
   "metadata": {},
   "outputs": [
    {
     "data": {
      "text/plain": [
       "[2, 4, 6, 8, 10]"
      ]
     },
     "execution_count": 26,
     "metadata": {},
     "output_type": "execute_result"
    }
   ],
   "source": [
    "#Or use list comprehension\n",
    "new_list = [x for x in list_number if x % 2 == 0]\n",
    "new_list"
   ]
  },
  {
   "cell_type": "markdown",
   "id": "ec171421-9d77-44d1-9277-78a6a46449be",
   "metadata": {},
   "source": [
    "<h1>Use lambda for reduce function<br>reduce(func, seq), repeatedly applies the func to the elements and returns a single value<br>func take 2 arguments </h1>"
   ]
  },
  {
   "cell_type": "code",
   "execution_count": 27,
   "id": "9eb31cba-7216-4878-9985-46623840e483",
   "metadata": {},
   "outputs": [
    {
     "data": {
      "text/plain": [
       "34"
      ]
     },
     "execution_count": 27,
     "metadata": {},
     "output_type": "execute_result"
    }
   ],
   "source": [
    "from functools import reduce \n",
    "sequence = [1,3,5,9,6,2,8]\n",
    "reduce(lambda a,b: a+b, sequence)"
   ]
  },
  {
   "cell_type": "code",
   "execution_count": 31,
   "id": "a3c21e49-0760-48f2-87bb-73aab6c79fc2",
   "metadata": {},
   "outputs": [
    {
     "data": {
      "text/plain": [
       "9"
      ]
     },
     "execution_count": 31,
     "metadata": {},
     "output_type": "execute_result"
    }
   ],
   "source": [
    "#find max val in sequence\n",
    "reduce(lambda a,b: a if a > b else b, sequence)"
   ]
  }
 ],
 "metadata": {
  "kernelspec": {
   "display_name": "Python 3 (ipykernel)",
   "language": "python",
   "name": "python3"
  },
  "language_info": {
   "codemirror_mode": {
    "name": "ipython",
    "version": 3
   },
   "file_extension": ".py",
   "mimetype": "text/x-python",
   "name": "python",
   "nbconvert_exporter": "python",
   "pygments_lexer": "ipython3",
   "version": "3.12.9"
  }
 },
 "nbformat": 4,
 "nbformat_minor": 5
}
